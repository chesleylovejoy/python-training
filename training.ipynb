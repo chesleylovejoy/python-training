{
 "cells": [
  {
   "cell_type": "code",
   "execution_count": 273,
   "metadata": {
    "collapsed": true,
    "pycharm": {
     "name": "#%%\n"
    }
   },
   "outputs": [
    {
     "name": "stdout",
     "output_type": "stream",
     "text": [
      "Congrats - you read the docs, \n",
      "which is half the battle.\n"
     ]
    }
   ],
   "source": [
    "\"\"\"\n",
    "==== DOCUMENTATION ====\n",
    "\n",
    "=== DEFINITIONS ===\n",
    "\n",
    " Python = just a programming language.\n",
    "    It's relatively easy to get started with because\n",
    "    it can run without a lot of setup/installation.\n",
    "    It also has dynamic typing, which means we\n",
    "    can mostly ignore what kind of data something is.\n",
    "\n",
    " Variable = like a bucket to put data in. You\n",
    "    can put stuff in the bucket, take stuff out,\n",
    "    or replace it.\n",
    "\n",
    " Function = a piece of code either you or someone\n",
    "    else wrote that you can call to do stuff for\n",
    "    you. Functions take arguments, which may\n",
    "    change what they do or their output. We'll\n",
    "    look at some examples later.\n",
    "\n",
    " Data structure = a kind of container for data.\n",
    "    For example, the number 4, or the word \"frog\"\n",
    "    can just go directly into a 'regular' variable.\n",
    "    Your grocery list, though, you might want to save\n",
    "    as, wait for it, a list. Or if you want to\n",
    "    associate two things together, like people and\n",
    "    their phone numbers, you might want a map.\n",
    "\n",
    "  Control structure = how you make the code make\n",
    "    choices and/or do stuff over and over. Some\n",
    "    examples are if blocks (if A, do X, else do Y),\n",
    "    and loops (repeat this thing over and over until\n",
    "    I tell you to stop).\n",
    "\n",
    "=== PYTHON NOTES ===\n",
    "\n",
    "Code comments - any line or lines that start with #\n",
    "    don't have to be valid code. They're called\n",
    "    comments, and they can be English. You'll see\n",
    "    lots of these later on\n",
    "\n",
    "Structure - Python is spacing based? This is weird\n",
    "    but it means in control structures, to work\n",
    "    'inside' the control structure, you have to tab\n",
    "    over. Tabs (or consistent spaces) are how Python\n",
    "    knows how to read your code.\n",
    "\n",
    "=== JUPYTER NOTEBOOKS ===\n",
    "\n",
    "Jupyter notebooks let you\n",
    "edit code and run it basically on the fly, only\n",
    "updating stuff where you've changed the code.\n",
    "\n",
    "It makes it really simple to see what your code is\n",
    "doing, and really simple to run because we can do\n",
    "it directly in the browser.\n",
    "\n",
    "You can use the play button to play the whole file,\n",
    "or one cell at a time. It's super user friendly.\n",
    "\n",
    "Hitting play actually makes all the code in here\n",
    "do stuff - that is, hitting play executes the code.\n",
    "\n",
    "=== SAFETY WARNING ===\n",
    "\n",
    "This is a public notebook. Don't put your phone\n",
    "number or your darkest secrets in here.\n",
    "\n",
    "=== UNSAFETY WARNING ===\n",
    "\n",
    "You literally cannot break this. The worst that\n",
    "happens is your code errors out and then you\n",
    "get to google error messages (welcome to software\n",
    "development).\n",
    "\n",
    "=== GOOGLE ===\n",
    "\n",
    "Google is your best friend.\n",
    "\n",
    "If you get an error, if you want to know how to do\n",
    "something, google python + the thing and you'll\n",
    "be good.\n",
    "\n",
    "If you get an answer from stackoverflow.com, that's\n",
    "the gold standard for programmers - try that result\n",
    "first.\n",
    "\n",
    "\"\"\"\n",
    "\n",
    "print('Congrats - you read the docs, \\nwhich is half the battle.')"
   ]
  },
  {
   "cell_type": "code",
   "execution_count": 274,
   "outputs": [],
   "source": [
    "\"\"\"\n",
    "LESSON 1: HELLO WORLD\n",
    "\n",
    "Every programmer starts with hello world. You're\n",
    "    going to write a program that literally prints\n",
    "    the string \"Hello, world\"\n",
    "\n",
    "In Python, a string is anything between two\n",
    "     single or double quotes. Like:\n",
    "     \"frog\"\n",
    "     'frog'\n",
    "     \"Was that a frog\"\n",
    "     'There were 800 frogs'\n",
    "\n",
    "To print something, you just call the built in\n",
    "    function print. It takes one argument, which\n",
    "    is the string you want to print.\n",
    "\n",
    "Here's an example:\n",
    "print('An example')\n",
    "\n",
    "TODO 1: write the code to print Hello, world.\n",
    "    Once you do that and hit play, you should\n",
    "    see Hello, world print out on the screen.\n",
    "\"\"\";"
   ],
   "metadata": {
    "collapsed": false,
    "pycharm": {
     "name": "#%%\n"
    }
   }
  },
  {
   "cell_type": "code",
   "execution_count": 275,
   "outputs": [
    {
     "name": "stdout",
     "output_type": "stream",
     "text": [
      "What is x?  4\n",
      "What is x?  F\n",
      "What is x?  ['cauliflower', 'chocolate pudding', 'chicken tenders']\n"
     ]
    }
   ],
   "source": [
    "\"\"\"\n",
    "LESSON 2: USING VARIABLES\n",
    "\n",
    "The first step in using a variable is to declare it.\n",
    "\n",
    "That's where you say, here's my variable, here's\n",
    "what I want to put in it for now.\n",
    "\n",
    "Remember a variable is just a bucket and we can\n",
    "put anything in it (in Python - not so true in\n",
    "other languages).\n",
    "\n",
    "Here's an example. Let's make a variable called x,\n",
    "put the number 4 into it, and then print it out.\n",
    "\"\"\"\n",
    "\n",
    "x = 4\n",
    "print(\"What is x? \", x)\n",
    "\n",
    "\"\"\"\n",
    "Great - now what if we decide we didn't want\n",
    "a number at all? We really wanted the letter F.\n",
    "\"\"\"\n",
    "x = 'F'\n",
    "print(\"What is x? \", x)\n",
    "\n",
    "\"\"\"\n",
    "Or, we wanted our grocery list:\n",
    "\"\"\"\n",
    "x = ['cauliflower', 'chocolate pudding', 'chicken tenders']\n",
    "print(\"What is x? \", x)"
   ],
   "metadata": {
    "collapsed": false,
    "pycharm": {
     "name": "#%%\n"
    }
   }
  },
  {
   "cell_type": "code",
   "execution_count": 276,
   "outputs": [],
   "source": [
    "\"\"\"\n",
    "TODO 2: write the code to create a variable\n",
    "named whatever you want, containing whatever\n",
    "data you want. Print it out.\n",
    "\"\"\";"
   ],
   "metadata": {
    "collapsed": false,
    "pycharm": {
     "name": "#%%\n"
    }
   }
  },
  {
   "cell_type": "code",
   "execution_count": 277,
   "outputs": [
    {
     "name": "stdout",
     "output_type": "stream",
     "text": [
      "\n",
      "PROG TITLE: The Number 4\n",
      "This is all about the number 4\n",
      "Pretend we have 400 more lines talking about how great the number 4 is\n"
     ]
    }
   ],
   "source": [
    "\"\"\"\n",
    "Ok, so why do we want variables in the first place?\n",
    "Couldn't I just have printed out 4 like this?\n",
    "\n",
    "print(4)\n",
    "\n",
    "Yep, for sure.\n",
    "\n",
    "But what if my program looks like this?\n",
    "\"\"\"\n",
    "\n",
    "print('\\nPROG TITLE: The Number 4')\n",
    "print('This is all about the number 4')\n",
    "print('Pretend we have 400 more lines talking about how great the number 4 is')"
   ],
   "metadata": {
    "collapsed": false,
    "pycharm": {
     "name": "#%%\n"
    }
   }
  },
  {
   "cell_type": "code",
   "execution_count": 278,
   "outputs": [
    {
     "name": "stdout",
     "output_type": "stream",
     "text": [
      "\n",
      "PROG TITLE: The Number 4\n",
      "This is all about the number 4\n",
      "Pretend we have 400 more lines talking about how great the number 4 is\n"
     ]
    }
   ],
   "source": [
    "\"\"\"\n",
    "And then me and the number 4 have a falling out.\n",
    "I don't want to think about 4 - I really wish\n",
    "my program was about 7.\n",
    "\n",
    "I could do a find/replace, or whatever else, to\n",
    "update all the places I wrote '4' to '7', or I\n",
    "could have just used a variable.\n",
    "\"\"\"\n",
    "\n",
    "x = 4\n",
    "print('\\nPROG TITLE: The Number {}'.format(x))\n",
    "print('This is all about the number {}'.format(x))\n",
    "print('Pretend we have 400 more lines talking about how great the number {} is'.format(x))"
   ],
   "metadata": {
    "collapsed": false,
    "pycharm": {
     "name": "#%%\n"
    }
   }
  },
  {
   "cell_type": "code",
   "execution_count": 279,
   "outputs": [
    {
     "name": "stdout",
     "output_type": "stream",
     "text": [
      "\n",
      "PROG TITLE: The Number 7\n",
      "This is all about the number 7\n",
      "Pretend we have 400 more lines talking about how great the number 7 is\n"
     ]
    }
   ],
   "source": [
    "\"\"\"\n",
    "Now if I want 7, I just change a single line:\n",
    "\"\"\"\n",
    "\n",
    "x = 7\n",
    "print('\\nPROG TITLE: The Number {}'.format(x))\n",
    "print('This is all about the number {}'.format(x))\n",
    "print('Pretend we have 400 more lines talking about how great the number {} is'.format(x))\n",
    "\n",
    "\"\"\"\n",
    "Besides that, what if I want the value to change\n",
    "as I do stuff in my program? Let's say I want\n",
    "to count something - every time I count a new\n",
    "occurrence, I can say, oh now x = x + 1.\n",
    "We'll do examples of this later in control structures.\n",
    "\"\"\";"
   ],
   "metadata": {
    "collapsed": false,
    "pycharm": {
     "name": "#%%\n"
    }
   }
  },
  {
   "cell_type": "code",
   "execution_count": 280,
   "outputs": [
    {
     "name": "stdout",
     "output_type": "stream",
     "text": [
      "8 was greater than 5\n"
     ]
    }
   ],
   "source": [
    "\"\"\"\n",
    "LESSON 3: IF BLOCKS\n",
    "\n",
    "An if block is used to tell the program what\n",
    "to do in different circumstances.\n",
    "\n",
    "Let's pick a number, and then have the program\n",
    "print out if it's greater than 5.\n",
    "\n",
    "Our if statement says, if this is true, do\n",
    "the code right underneath me. Our else statement\n",
    "says, if the if block wasn't true, do whatever's\n",
    "underneath me.\n",
    "\n",
    "You can edit the value we're putting in\n",
    "my_number here to test it out.\n",
    "\"\"\"\n",
    "\n",
    "my_number = 8\n",
    "\n",
    "if my_number > 5:\n",
    "  print('{} was greater than 5'.format(my_number))\n",
    "else:\n",
    "  print('{} was not greater than 5'.format(my_number))"
   ],
   "metadata": {
    "collapsed": false,
    "pycharm": {
     "name": "#%%\n"
    }
   }
  },
  {
   "cell_type": "code",
   "execution_count": 281,
   "outputs": [
    {
     "name": "stdout",
     "output_type": "stream",
     "text": [
      "5 was equal to 5\n"
     ]
    }
   ],
   "source": [
    "\"\"\"\n",
    "We can build as many if options in a row as\n",
    "we want, but once one of them is true, we'll\n",
    "stop looking.\n",
    "\n",
    "Let's say we wanted to know if our number was greater than,\n",
    "equal to, or neither.\n",
    "\n",
    "Note that 'equal to' is checked with two\n",
    "equals signs in a row, because the single equals\n",
    "is how we assign variables.\n",
    "\"\"\"\n",
    "my_number = 5\n",
    "\n",
    "if my_number > 5:\n",
    "  print('{} was greater than 5'.format(my_number))\n",
    "elif my_number == 5:\n",
    "  print('{} was equal to 5'.format(my_number))\n",
    "else:\n",
    "  print('{} was not greater than 5'.format(my_number))"
   ],
   "metadata": {
    "collapsed": false,
    "pycharm": {
     "name": "#%%\n"
    }
   }
  },
  {
   "cell_type": "code",
   "execution_count": 282,
   "outputs": [],
   "source": [
    "\"\"\"\n",
    "TODO 3: Write an if block that will print\n",
    "out whether a given number is even or odd.\n",
    "\"\"\";"
   ],
   "metadata": {
    "collapsed": false,
    "pycharm": {
     "name": "#%%\n"
    }
   }
  },
  {
   "cell_type": "code",
   "execution_count": 283,
   "outputs": [
    {
     "name": "stdout",
     "output_type": "stream",
     "text": [
      "Don't forget to buy cauliflower\n",
      "Don't forget to buy chocolate pudding\n",
      "Don't forget to buy chicken tenders\n"
     ]
    },
    {
     "data": {
      "text/plain": "'\\nWithout that loop, we\\'d have to write the same\\ncode three times:\\nprint(\"Don\\'t forget to buy cauliflower\")\\nprint(\"Don\\'t forget to buy chocolate pudding\")\\nprint(\"Don\\'t forget to buy chicken tenders\")\\n\\nAnd then if I need a fourth item from the store,\\nthis code doesn\\'t work anymore without me editing it.\\n\\nThe loop will just automatically run a fourth\\ntime on my new item.\\n'"
     },
     "execution_count": 283,
     "metadata": {},
     "output_type": "execute_result"
    }
   ],
   "source": [
    "\"\"\"\n",
    "LESSON 4: LOOPS\n",
    "\n",
    "Loops let us tell code to do something over\n",
    "and over until some condition is met that tells\n",
    "it to stop (or not, in which case you get an\n",
    "infinite loop and crash your computer - good\n",
    "times).\n",
    "\n",
    "There are several different kinds of loops, but\n",
    "we'll only talk about 2: for loops and while\n",
    "loops.\n",
    "\n",
    "For loops are pretty straightforward - they say,\n",
    "for the items in this list, do the loop once\n",
    "on each item.\n",
    "\"\"\"\n",
    "grocery_list = ['cauliflower', 'chocolate pudding', 'chicken tenders']\n",
    "\n",
    "# \"item\" here is a variable name\n",
    "# we could call it anything we want\n",
    "for item in grocery_list:\n",
    "  print(\"Don't forget to buy {}\".format(item))\n",
    "\n",
    "\"\"\"\n",
    "Without that loop, we'd have to write the same\n",
    "code three times:\n",
    "print(\"Don't forget to buy cauliflower\")\n",
    "print(\"Don't forget to buy chocolate pudding\")\n",
    "print(\"Don't forget to buy chicken tenders\")\n",
    "\n",
    "And then if I need a fourth item from the store,\n",
    "this code doesn't work anymore without me editing it.\n",
    "\n",
    "The loop will just automatically run a fourth\n",
    "time on my new item.\n",
    "\"\"\""
   ],
   "metadata": {
    "collapsed": false,
    "pycharm": {
     "name": "#%%\n"
    }
   }
  },
  {
   "cell_type": "code",
   "execution_count": 284,
   "outputs": [
    {
     "name": "stdout",
     "output_type": "stream",
     "text": [
      "Considering cauliflower\n",
      "Considering chocolate pudding\n"
     ]
    }
   ],
   "source": [
    "\"\"\"\n",
    "While loops say, do this thing until the\n",
    "condition I set is true.\n",
    "\n",
    "As an example, let's say I want to read my\n",
    "grocery list until I find chocolate pudding,\n",
    "and then I'm going to stop because why do I\n",
    "even need anything past that.\n",
    "\"\"\"\n",
    "grocery_list = ['cauliflower', 'chocolate pudding', 'chicken tenders']\n",
    "found_pudding = False\n",
    "\n",
    "while not found_pudding:\n",
    "  # the [0] here gets the first thing on\n",
    "  #   our list\n",
    "  item = grocery_list[0]\n",
    "  # then we'll take it off the list once\n",
    "  #   we've looked at it\n",
    "  # Generally, if we're dealing with a list,\n",
    "  #   we use a for loop. You can see in the\n",
    "  #   prior example how much simpler that is.\n",
    "  grocery_list.remove(item)\n",
    "  print('Considering {}'.format(item))\n",
    "  if item == 'chocolate pudding':\n",
    "    found_pudding = True\n",
    "\n",
    "\"\"\"\n",
    "Notice that we never considered chicken tenders in\n",
    "that loop. Once found_pudding was True, our while\n",
    "check was no longer true, and we stopped\n",
    "looping.\n",
    "\"\"\";"
   ],
   "metadata": {
    "collapsed": false,
    "pycharm": {
     "name": "#%%\n"
    }
   }
  },
  {
   "cell_type": "code",
   "execution_count": 285,
   "outputs": [],
   "source": [
    "\"\"\"\n",
    "TODO 4A: Make a list of a few numbers.\n",
    "  Use a for loop to add up all the numbers in your list.\n",
    "  Remember that you can create and update a\n",
    "  variable to track that sum for you. (I do\n",
    "  that in my while loop example where I update\n",
    "  the variable 'found_pudding').\n",
    "\n",
    "  Just make sure to declare the variable to hold the sum\n",
    "  before you start the for loop. It can have\n",
    "  a starting value of zero.\n",
    "\"\"\";"
   ],
   "metadata": {
    "collapsed": false,
    "pycharm": {
     "name": "#%%\n"
    }
   }
  },
  {
   "cell_type": "code",
   "execution_count": 286,
   "outputs": [],
   "source": [
    "\"\"\"\n",
    "TODO 4B: Make a list of numbers from 1 to 10.\n",
    "  Write a while loop to add up numbers from that list\n",
    "  until your sum is greater than 12. You can\n",
    "  reference the grocery list loop above for\n",
    "  an example of getting information from a list\n",
    "  while working in a while loop.\n",
    "\"\"\";"
   ],
   "metadata": {
    "collapsed": false,
    "pycharm": {
     "name": "#%%\n"
    }
   }
  },
  {
   "cell_type": "code",
   "execution_count": 287,
   "outputs": [],
   "source": [
    "\"\"\"\n",
    "TODO 5: BONUS ACTIVITY\n",
    "\n",
    "Combine a for loop and an if block to write a program\n",
    "that loops over a list of numbers from 1 to 10\n",
    "and prints out whether each number is even or odd.\n",
    "\"\"\";"
   ],
   "metadata": {
    "collapsed": false,
    "pycharm": {
     "name": "#%%\n"
    }
   }
  }
 ],
 "metadata": {
  "kernelspec": {
   "display_name": "Python 3",
   "language": "python",
   "name": "python3"
  },
  "language_info": {
   "codemirror_mode": {
    "name": "ipython",
    "version": 2
   },
   "file_extension": ".py",
   "mimetype": "text/x-python",
   "name": "python",
   "nbconvert_exporter": "python",
   "pygments_lexer": "ipython2",
   "version": "2.7.6"
  }
 },
 "nbformat": 4,
 "nbformat_minor": 0
}